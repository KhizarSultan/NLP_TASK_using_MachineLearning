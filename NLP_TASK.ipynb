{
 "cells": [
  {
   "cell_type": "markdown",
   "metadata": {},
   "source": [
    "## Problem Statement\n",
    "This tasks involves classifying a set of emails as spam or not spam. The data that you will be using to\n",
    "classify the data is available at https://www.cs.cmu.edu/~einat/EnronMeetings-XML.zip\n",
    "1. Read and load data from all the files in the train folder\n",
    "2. Formulate a dataset based on the content of the email. You can choose any criteria for classifying\n",
    "the content as spam or not spam but you need to justify your reasons.\n",
    "3. Evaluate your model\n",
    "4. Feed some testing data to it and classify is the email was spam or not"
   ]
  },
  {
   "cell_type": "code",
   "execution_count": 1,
   "metadata": {},
   "outputs": [],
   "source": [
    "# importing necessary libraries\n",
    "\n",
    "# for Data Loading, manipulication and analysis\n",
    "import pandas as pd\n",
    "# for Linear Algebra\n",
    "import numpy as np\n",
    "# for Data Cleansing\n",
    "import re\n",
    "# for operating system\n",
    "import os\n",
    "# for Machine Learning \n",
    "import sklearn"
   ]
  },
  {
   "cell_type": "markdown",
   "metadata": {},
   "source": [
    "### 1. Reading and Loading Data from All files in the train folder into Dataframe"
   ]
  },
  {
   "cell_type": "code",
   "execution_count": 2,
   "metadata": {},
   "outputs": [
    {
     "name": "stdout",
     "output_type": "stream",
     "text": [
      "['bunch1', 'bunch2', 'bunch3']\n"
     ]
    },
    {
     "data": {
      "text/plain": [
       "['C:/Users/Khizer Sultan//EnronMeetings-XML/train/bunch1',\n",
       " 'C:/Users/Khizer Sultan//EnronMeetings-XML/train/bunch2',\n",
       " 'C:/Users/Khizer Sultan//EnronMeetings-XML/train/bunch3']"
      ]
     },
     "execution_count": 2,
     "metadata": {},
     "output_type": "execute_result"
    }
   ],
   "source": [
    "# first we have to read text files\n",
    "\n",
    "# path of train folder dataset\n",
    "data_folder_path = \"C:/Users/Khizer Sultan//EnronMeetings-XML/train\" \n",
    "# folders in the train folders\n",
    "bunches_path = os.listdir(data_folder_path)\n",
    "print(bunches_path)\n",
    "# join the complete path for reading texts files \n",
    "txt_file_paths = []\n",
    "for folder in bunches_path:\n",
    "    txt_file_paths.append(os.path.join(data_folder_path,folder).replace('\\\\','/'))\n",
    "txt_file_paths    "
   ]
  },
  {
   "cell_type": "code",
   "execution_count": 3,
   "metadata": {},
   "outputs": [
    {
     "name": "stdout",
     "output_type": "stream",
     "text": [
      "Total numbers of files are 729\n"
     ]
    }
   ],
   "source": [
    "# list of files in every bunch folder\n",
    "bunch_1_files = os.listdir(txt_file_paths[0])\n",
    "bunch_2_files = os.listdir(txt_file_paths[1])\n",
    "bunch_3_files = os.listdir(txt_file_paths[2])\n",
    "# calculating the total files in every bunch folder\n",
    "total_files = len(bunch_1_files) + len(bunch_2_files) + len(bunch_3_files)\n",
    "print(f\"Total numbers of files are {total_files}\")"
   ]
  },
  {
   "cell_type": "markdown",
   "metadata": {},
   "source": [
    "### 1.2 Reading the files and inserting it into a Data frame "
   ]
  },
  {
   "cell_type": "code",
   "execution_count": 4,
   "metadata": {},
   "outputs": [],
   "source": [
    "# empty data frame to save the data\n",
    "df = pd.DataFrame([])\n",
    "# loop over the entire text files to read the files\n",
    "for txt_file_path in txt_file_paths:\n",
    "    # list of files in every bunch folder\n",
    "    bunch_1_files = os.listdir(txt_file_path)\n",
    "    # reading text files in every bunch folder\n",
    "    for file_name in bunch_1_files:\n",
    "        # creating the path of text files\n",
    "        file_path = os.path.join(str(txt_file_path),file_name).replace('\\\\','/')\n",
    "        # opening the file\n",
    "        f = open(file=file_path)\n",
    "        # reading the file and converting it into a Data frame\n",
    "        df = df.append(pd.DataFrame([f.read()]), ignore_index = True)\n",
    "        # printing the data files\n",
    "#         print(df)"
   ]
  },
  {
   "cell_type": "code",
   "execution_count": 5,
   "metadata": {},
   "outputs": [
    {
     "data": {
      "text/html": [
       "<div>\n",
       "<style scoped>\n",
       "    .dataframe tbody tr th:only-of-type {\n",
       "        vertical-align: middle;\n",
       "    }\n",
       "\n",
       "    .dataframe tbody tr th {\n",
       "        vertical-align: top;\n",
       "    }\n",
       "\n",
       "    .dataframe thead th {\n",
       "        text-align: right;\n",
       "    }\n",
       "</style>\n",
       "<table border=\"1\" class=\"dataframe\">\n",
       "  <thead>\n",
       "    <tr style=\"text-align: right;\">\n",
       "      <th></th>\n",
       "      <th>0</th>\n",
       "    </tr>\n",
       "  </thead>\n",
       "  <tbody>\n",
       "    <tr>\n",
       "      <td>0</td>\n",
       "      <td>Message-ID: &lt;7789106.1072119990022.JavaMail.ev...</td>\n",
       "    </tr>\n",
       "    <tr>\n",
       "      <td>1</td>\n",
       "      <td>Message-ID: &lt;24636930.1072120008699.JavaMail.e...</td>\n",
       "    </tr>\n",
       "    <tr>\n",
       "      <td>2</td>\n",
       "      <td>Message-ID: &lt;29790196.1072120008955.JavaMail.e...</td>\n",
       "    </tr>\n",
       "    <tr>\n",
       "      <td>3</td>\n",
       "      <td>Message-ID: &lt;18160814.1072120008978.JavaMail.e...</td>\n",
       "    </tr>\n",
       "    <tr>\n",
       "      <td>4</td>\n",
       "      <td>Message-ID: &lt;17703062.1072120009010.JavaMail.e...</td>\n",
       "    </tr>\n",
       "    <tr>\n",
       "      <td>...</td>\n",
       "      <td>...</td>\n",
       "    </tr>\n",
       "    <tr>\n",
       "      <td>724</td>\n",
       "      <td>Message-ID: &lt;32604680.1072121652870.JavaMail.e...</td>\n",
       "    </tr>\n",
       "    <tr>\n",
       "      <td>725</td>\n",
       "      <td>Message-ID: &lt;1219085.1072121652894.JavaMail.ev...</td>\n",
       "    </tr>\n",
       "    <tr>\n",
       "      <td>726</td>\n",
       "      <td>Message-ID: &lt;20966488.1072121652918.JavaMail.e...</td>\n",
       "    </tr>\n",
       "    <tr>\n",
       "      <td>727</td>\n",
       "      <td>Message-ID: &lt;28674073.1072121652944.JavaMail.e...</td>\n",
       "    </tr>\n",
       "    <tr>\n",
       "      <td>728</td>\n",
       "      <td>Message-ID: &lt;16397740.1072121652968.JavaMail.e...</td>\n",
       "    </tr>\n",
       "  </tbody>\n",
       "</table>\n",
       "<p>729 rows × 1 columns</p>\n",
       "</div>"
      ],
      "text/plain": [
       "                                                     0\n",
       "0    Message-ID: <7789106.1072119990022.JavaMail.ev...\n",
       "1    Message-ID: <24636930.1072120008699.JavaMail.e...\n",
       "2    Message-ID: <29790196.1072120008955.JavaMail.e...\n",
       "3    Message-ID: <18160814.1072120008978.JavaMail.e...\n",
       "4    Message-ID: <17703062.1072120009010.JavaMail.e...\n",
       "..                                                 ...\n",
       "724  Message-ID: <32604680.1072121652870.JavaMail.e...\n",
       "725  Message-ID: <1219085.1072121652894.JavaMail.ev...\n",
       "726  Message-ID: <20966488.1072121652918.JavaMail.e...\n",
       "727  Message-ID: <28674073.1072121652944.JavaMail.e...\n",
       "728  Message-ID: <16397740.1072121652968.JavaMail.e...\n",
       "\n",
       "[729 rows x 1 columns]"
      ]
     },
     "execution_count": 5,
     "metadata": {},
     "output_type": "execute_result"
    }
   ],
   "source": [
    "# Lets have a look at dataset\n",
    "df\n",
    "# every row contains one file"
   ]
  },
  {
   "cell_type": "code",
   "execution_count": 6,
   "metadata": {},
   "outputs": [
    {
     "data": {
      "text/plain": [
       "(729, 1)"
      ]
     },
     "execution_count": 6,
     "metadata": {},
     "output_type": "execute_result"
    }
   ],
   "source": [
    "# we can verify the number of files using rows\n",
    "# every row contain one file, so 729 file and 729 rows\n",
    "df.shape"
   ]
  },
  {
   "cell_type": "code",
   "execution_count": 7,
   "metadata": {},
   "outputs": [],
   "source": [
    "# lets save this data file into CSV file \n",
    "df.to_csv(\"email_data.csv\")"
   ]
  },
  {
   "cell_type": "markdown",
   "metadata": {},
   "source": [
    "### 2. Applying Data Cleansing\n",
    "<br><br>\n",
    "<li> Remove Puncuations and HTML Tags </li>\n",
    "<li> Tokenization </li>\n",
    "<li> Remove stop words </li>\n",
    "<li> Normalization </li>\n",
    "<li> Stemming </li>\n",
    "<li> Lemmatization </li>"
   ]
  },
  {
   "cell_type": "code",
   "execution_count": 8,
   "metadata": {},
   "outputs": [],
   "source": [
    "# importing data cleansing and NLP libraries\n",
    "import re\n",
    "# for removing HTML tags\n",
    "from bs4 import BeautifulSoup\n",
    "# for removing stop words\n",
    "from nltk.corpus import stopwords\n",
    "# for applying stemming\n",
    "from nltk.stem.porter import PorterStemmer\n",
    "# for applying lemmatization\n",
    "from nltk.stem import WordNetLemmatizer"
   ]
  },
  {
   "cell_type": "code",
   "execution_count": 9,
   "metadata": {},
   "outputs": [],
   "source": [
    "# set the column name of emails\n",
    "df.columns = ['Emails']"
   ]
  },
  {
   "cell_type": "code",
   "execution_count": 10,
   "metadata": {},
   "outputs": [],
   "source": [
    "def Text_Cleaner(text):\n",
    "    \n",
    "    # removing html tags\n",
    "    soup = BeautifulSoup(text, \"html.parser\")\n",
    "    \n",
    "    # removed all html tags\n",
    "    email = soup.get_text()\n",
    "    \n",
    "    # removing square brackets\n",
    "    email =  re.sub('\\[[^]]*\\]',' ', email)\n",
    "\n",
    "    # removing special characters and integers\n",
    "    email = re.sub(\"[^a-zA-Z]\",' ',email)\n",
    "    \n",
    "    # normalization (only lower case)\n",
    "    email = email.lower()\n",
    "    \n",
    "    # tokanization \n",
    "    email = email.split()\n",
    "    \n",
    "    # remove stop words\n",
    "    email = [word for word in email if not word in stopwords.words(\"english\")]\n",
    "    \n",
    "    # Apply Stemming to get the root of the word\n",
    "    ps = PorterStemmer()\n",
    "    email = [ps.stem(word) for word in email if len(word) > 2]\n",
    "    \n",
    "    email = ' '.join(email)\n",
    "    \n",
    "    return email"
   ]
  },
  {
   "cell_type": "code",
   "execution_count": 11,
   "metadata": {},
   "outputs": [],
   "source": [
    "# applying this function on the dataset \n",
    "df['Emails'] = df['Emails'].apply(Text_Cleaner)\n",
    "# Data has been cleaned"
   ]
  },
  {
   "cell_type": "markdown",
   "metadata": {},
   "source": [
    "### 3. Preparing Data for Machine Learning "
   ]
  },
  {
   "cell_type": "code",
   "execution_count": 12,
   "metadata": {},
   "outputs": [],
   "source": [
    "# TF-IDF is a matrix In information retrieval, tf–idf or TFIDF, \n",
    "# short for term frequency–inverse document frequency, is a numerical statistic \n",
    "# that is intended to reflect how important a word is to a document in a collection or corpus.\n",
    "from sklearn.feature_extraction.text import TfidfVectorizer"
   ]
  },
  {
   "cell_type": "code",
   "execution_count": 13,
   "metadata": {},
   "outputs": [],
   "source": [
    "# to apply Tf-IDF, we have to convert the dataframe into document\n",
    "# so lets do :)\n",
    "document = list(df.Emails)"
   ]
  },
  {
   "cell_type": "markdown",
   "metadata": {},
   "source": [
    "### 3.1 Creating the TF-IDF Matrix"
   ]
  },
  {
   "cell_type": "code",
   "execution_count": 14,
   "metadata": {},
   "outputs": [],
   "source": [
    "vectorizer = TfidfVectorizer(stop_words='english', max_features= 1554)\n",
    "X = vectorizer.fit_transform(document)"
   ]
  },
  {
   "cell_type": "markdown",
   "metadata": {},
   "source": [
    "### 4. Applying Unsupervised Machine Learning Algorithm"
   ]
  },
  {
   "cell_type": "code",
   "execution_count": 15,
   "metadata": {},
   "outputs": [],
   "source": [
    "# importing clsutering algorithm to label the data\n",
    "from sklearn.cluster import KMeans\n",
    "# for counting clusters\n",
    "from collections import Counter as count\n",
    "# for visualization\n",
    "import matplotlib.pyplot as plt\n",
    "import seaborn as sns"
   ]
  },
  {
   "cell_type": "code",
   "execution_count": 16,
   "metadata": {},
   "outputs": [],
   "source": [
    "# choosing the value of k as 2 because we have two classes (1)Spam (2) Not Spam\n",
    "k = 2\n",
    "# choosing the number of parameter\n",
    "model = KMeans(n_clusters=k)\n",
    "# applying K_Means Clustering algorithm\n",
    "y_kmeans = model.fit_predict(X)"
   ]
  },
  {
   "cell_type": "code",
   "execution_count": 17,
   "metadata": {},
   "outputs": [
    {
     "data": {
      "text/plain": [
       "Counter({0: 293, 1: 436})"
      ]
     },
     "execution_count": 17,
     "metadata": {},
     "output_type": "execute_result"
    }
   ],
   "source": [
    "# counting the clusters\n",
    "k_clusters = count(y_kmeans)\n",
    "# we have cluster 1 and cluster 2\n",
    "k_clusters"
   ]
  },
  {
   "cell_type": "markdown",
   "metadata": {},
   "source": [
    "### 4.1 Converting Unsupervised data into Supervised data"
   ]
  },
  {
   "cell_type": "code",
   "execution_count": 18,
   "metadata": {},
   "outputs": [],
   "source": [
    "# it is the output of clustering \n",
    "# i.e which points are laying in 1st cluster and in second cluster\n",
    "df['Label'] = model.labels_"
   ]
  },
  {
   "cell_type": "code",
   "execution_count": 19,
   "metadata": {},
   "outputs": [
    {
     "data": {
      "text/html": [
       "<div>\n",
       "<style scoped>\n",
       "    .dataframe tbody tr th:only-of-type {\n",
       "        vertical-align: middle;\n",
       "    }\n",
       "\n",
       "    .dataframe tbody tr th {\n",
       "        vertical-align: top;\n",
       "    }\n",
       "\n",
       "    .dataframe thead th {\n",
       "        text-align: right;\n",
       "    }\n",
       "</style>\n",
       "<table border=\"1\" class=\"dataframe\">\n",
       "  <thead>\n",
       "    <tr style=\"text-align: right;\">\n",
       "      <th></th>\n",
       "      <th>Emails</th>\n",
       "      <th>Label</th>\n",
       "    </tr>\n",
       "  </thead>\n",
       "  <tbody>\n",
       "    <tr>\n",
       "      <td>0</td>\n",
       "      <td>messag javamail evan thyme date mon feb pst mc...</td>\n",
       "      <td>0</td>\n",
       "    </tr>\n",
       "    <tr>\n",
       "      <td>1</td>\n",
       "      <td>messag javamail evan thyme date mon feb pst ll...</td>\n",
       "      <td>0</td>\n",
       "    </tr>\n",
       "    <tr>\n",
       "      <td>2</td>\n",
       "      <td>messag javamail evan thyme date tue oct pdt da...</td>\n",
       "      <td>0</td>\n",
       "    </tr>\n",
       "    <tr>\n",
       "      <td>3</td>\n",
       "      <td>messag javamail evan thyme date fri oct pdt co...</td>\n",
       "      <td>0</td>\n",
       "    </tr>\n",
       "    <tr>\n",
       "      <td>4</td>\n",
       "      <td>messag javamail evan thyme date thu oct pdt ba...</td>\n",
       "      <td>1</td>\n",
       "    </tr>\n",
       "    <tr>\n",
       "      <td>5</td>\n",
       "      <td>messag javamail evan thyme date thu oct pdt ba...</td>\n",
       "      <td>1</td>\n",
       "    </tr>\n",
       "    <tr>\n",
       "      <td>6</td>\n",
       "      <td>messag javamail evan thyme date mon oct pdt ri...</td>\n",
       "      <td>0</td>\n",
       "    </tr>\n",
       "    <tr>\n",
       "      <td>7</td>\n",
       "      <td>messag javamail evan thyme date mon sep pdt ba...</td>\n",
       "      <td>1</td>\n",
       "    </tr>\n",
       "    <tr>\n",
       "      <td>8</td>\n",
       "      <td>messag javamail evan thyme date thu sep pdt ba...</td>\n",
       "      <td>1</td>\n",
       "    </tr>\n",
       "    <tr>\n",
       "      <td>9</td>\n",
       "      <td>messag javamail evan thyme date wed sep pdt ba...</td>\n",
       "      <td>1</td>\n",
       "    </tr>\n",
       "  </tbody>\n",
       "</table>\n",
       "</div>"
      ],
      "text/plain": [
       "                                              Emails  Label\n",
       "0  messag javamail evan thyme date mon feb pst mc...      0\n",
       "1  messag javamail evan thyme date mon feb pst ll...      0\n",
       "2  messag javamail evan thyme date tue oct pdt da...      0\n",
       "3  messag javamail evan thyme date fri oct pdt co...      0\n",
       "4  messag javamail evan thyme date thu oct pdt ba...      1\n",
       "5  messag javamail evan thyme date thu oct pdt ba...      1\n",
       "6  messag javamail evan thyme date mon oct pdt ri...      0\n",
       "7  messag javamail evan thyme date mon sep pdt ba...      1\n",
       "8  messag javamail evan thyme date thu sep pdt ba...      1\n",
       "9  messag javamail evan thyme date wed sep pdt ba...      1"
      ]
     },
     "execution_count": 19,
     "metadata": {},
     "output_type": "execute_result"
    }
   ],
   "source": [
    "df.head(10)"
   ]
  },
  {
   "cell_type": "markdown",
   "metadata": {},
   "source": [
    "### 4.2 Data is Labelled now but it is imbalanced"
   ]
  },
  {
   "cell_type": "code",
   "execution_count": 20,
   "metadata": {},
   "outputs": [
    {
     "data": {
      "text/plain": [
       "<matplotlib.axes._subplots.AxesSubplot at 0x23ca306db48>"
      ]
     },
     "execution_count": 20,
     "metadata": {},
     "output_type": "execute_result"
    },
    {
     "data": {
      "image/png": "[encoded data removed]",
      "text/plain": [
       "<Figure size 432x288 with 1 Axes>"
      ]
     },
     "metadata": {
      "needs_background": "light"
     },
     "output_type": "display_data"
    }
   ],
   "source": [
    "# Data is Imbalanced\n",
    "df.Label.value_counts().plot(kind = 'bar')\n",
    "\n",
    "# 1 stand for not spam\n",
    "# 0 stand for spam"
   ]
  },
  {
   "cell_type": "markdown",
   "metadata": {},
   "source": [
    "### 4.3 Balancing the Label Data "
   ]
  },
  {
   "cell_type": "code",
   "execution_count": 21,
   "metadata": {},
   "outputs": [],
   "source": [
    "# Smote is an algortihm for balancing the dataset\n",
    "from imblearn.over_sampling import SMOTE"
   ]
  },
  {
   "cell_type": "code",
   "execution_count": 22,
   "metadata": {},
   "outputs": [],
   "source": [
    "# applying smote algorithm \n",
    "oversample = SMOTE()\n",
    "X, y = oversample.fit_resample(X, df.Label)"
   ]
  },
  {
   "cell_type": "markdown",
   "metadata": {},
   "source": [
    "### 4.4 Data has been Balanced  "
   ]
  },
  {
   "cell_type": "code",
   "execution_count": 23,
   "metadata": {},
   "outputs": [
    {
     "data": {
      "text/plain": [
       "{0: 436, 1: 436}"
      ]
     },
     "execution_count": 23,
     "metadata": {},
     "output_type": "execute_result"
    }
   ],
   "source": [
    "# lets verify this\n",
    "dict(count(y).items())\n",
    "# you can see, Data is Balanced now"
   ]
  },
  {
   "cell_type": "code",
   "execution_count": 24,
   "metadata": {},
   "outputs": [],
   "source": [
    "# converting a sparse dense matrix into an array \n",
    "X = X.toarray()"
   ]
  },
  {
   "cell_type": "code",
   "execution_count": 25,
   "metadata": {},
   "outputs": [
    {
     "data": {
      "text/plain": [
       "(872, 1554)"
      ]
     },
     "execution_count": 25,
     "metadata": {},
     "output_type": "execute_result"
    }
   ],
   "source": [
    "X.shape"
   ]
  },
  {
   "cell_type": "markdown",
   "metadata": {},
   "source": [
    "### 4.5 Applying Supervised Machine Learning Algorithms"
   ]
  },
  {
   "cell_type": "code",
   "execution_count": 26,
   "metadata": {},
   "outputs": [],
   "source": [
    "from sklearn.model_selection import train_test_split\n",
    "from sklearn.naive_bayes import GaussianNB\n",
    "from sklearn.ensemble import GradientBoostingClassifier\n",
    "from sklearn.model_selection import cross_val_score\n",
    "from sklearn.metrics import accuracy_score,confusion_matrix"
   ]
  },
  {
   "cell_type": "code",
   "execution_count": 27,
   "metadata": {},
   "outputs": [],
   "source": [
    "X_train,X_test,Y_train,Y_test = train_test_split(X,y,test_size = 0.2, random_state  = 42)"
   ]
  },
  {
   "cell_type": "code",
   "execution_count": 28,
   "metadata": {},
   "outputs": [],
   "source": [
    "classifier = GradientBoostingClassifier()\n",
    "result = classifier.fit(X_train,Y_train)"
   ]
  },
  {
   "cell_type": "markdown",
   "metadata": {},
   "source": [
    "### 4.6 Evaluating my Model "
   ]
  },
  {
   "cell_type": "code",
   "execution_count": 29,
   "metadata": {},
   "outputs": [
    {
     "data": {
      "text/plain": [
       "1.0"
      ]
     },
     "execution_count": 29,
     "metadata": {},
     "output_type": "execute_result"
    }
   ],
   "source": [
    "# result on training data\n",
    "# which is 98%\n",
    "result.score(X_train,Y_train) "
   ]
  },
  {
   "cell_type": "markdown",
   "metadata": {},
   "source": [
    "### 100% Accuracy on Training data "
   ]
  },
  {
   "cell_type": "code",
   "execution_count": 30,
   "metadata": {},
   "outputs": [
    {
     "data": {
      "text/plain": [
       "0.988488612836439"
      ]
     },
     "execution_count": 30,
     "metadata": {},
     "output_type": "execute_result"
    }
   ],
   "source": [
    "# 81%  will be acc on validation dataset\n",
    "valid_result = np.mean(cross_val_score(classifier,X_train,Y_train,cv=10,scoring='accuracy')) \n",
    "valid_result"
   ]
  },
  {
   "cell_type": "markdown",
   "metadata": {},
   "source": [
    "### 98% Accuracy on Cross validation"
   ]
  },
  {
   "cell_type": "code",
   "execution_count": 31,
   "metadata": {},
   "outputs": [
    {
     "data": {
      "text/plain": [
       "0.9771428571428571"
      ]
     },
     "execution_count": 31,
     "metadata": {},
     "output_type": "execute_result"
    }
   ],
   "source": [
    "# lets check on validation data\n",
    "y_pred = classifier.predict(X_test)\n",
    "test_acc = accuracy_score(Y_test,y_pred)\n",
    "test_acc # 67 %"
   ]
  },
  {
   "cell_type": "markdown",
   "metadata": {},
   "source": [
    "### 98% Accuracy on Validation Dataset "
   ]
  },
  {
   "cell_type": "code",
   "execution_count": 32,
   "metadata": {},
   "outputs": [
    {
     "data": {
      "text/plain": [
       "array([[85,  2],\n",
       "       [ 2, 86]], dtype=int64)"
      ]
     },
     "execution_count": 32,
     "metadata": {},
     "output_type": "execute_result"
    }
   ],
   "source": [
    "# lets see using confusion matrix\n",
    "matrix = confusion_matrix(Y_test,y_pred)\n",
    "matrix"
   ]
  },
  {
   "cell_type": "code",
   "execution_count": 33,
   "metadata": {},
   "outputs": [
    {
     "data": {
      "text/plain": [
       "<matplotlib.axes._subplots.AxesSubplot at 0x23ca38e5508>"
      ]
     },
     "execution_count": 33,
     "metadata": {},
     "output_type": "execute_result"
    },
    {
     "data": {
      "image/png": "[encoded data removed]",
      "text/plain": [
       "<Figure size 432x288 with 2 Axes>"
      ]
     },
     "metadata": {
      "needs_background": "light"
     },
     "output_type": "display_data"
    }
   ],
   "source": [
    "sns.heatmap(matrix/np.sum(matrix), annot=True, \n",
    "            fmt='.2%', cmap='Blues')"
   ]
  },
  {
   "cell_type": "markdown",
   "metadata": {},
   "source": [
    "### 4.7 Saving the Model for future use "
   ]
  },
  {
   "cell_type": "code",
   "execution_count": 34,
   "metadata": {},
   "outputs": [
    {
     "data": {
      "text/plain": [
       "['finalized_model.sav']"
      ]
     },
     "execution_count": 34,
     "metadata": {},
     "output_type": "execute_result"
    }
   ],
   "source": [
    "# importing necessary library\n",
    "import joblib\n",
    "filename = 'finalized_model.sav'\n",
    "joblib.dump(model, filename)\n",
    "# Model Have been saved"
   ]
  },
  {
   "cell_type": "markdown",
   "metadata": {},
   "source": [
    "### 5. Feeding test data to my Model "
   ]
  },
  {
   "cell_type": "markdown",
   "metadata": {},
   "source": [
    "### 5.1 Reading Test Files "
   ]
  },
  {
   "cell_type": "code",
   "execution_count": 35,
   "metadata": {},
   "outputs": [
    {
     "name": "stdout",
     "output_type": "stream",
     "text": [
      "['bunch4']\n"
     ]
    },
    {
     "data": {
      "text/plain": [
       "['C:/Users/Khizer Sultan//EnronMeetings-XML/test/bunch4']"
      ]
     },
     "execution_count": 35,
     "metadata": {},
     "output_type": "execute_result"
    }
   ],
   "source": [
    "# first we have to read text files\n",
    "\n",
    "# path of test folder dataset\n",
    "data_folder_path = \"C:/Users/Khizer Sultan//EnronMeetings-XML/test\" \n",
    "# folders in the test folders\n",
    "bunches_path = os.listdir(data_folder_path)\n",
    "print(bunches_path)\n",
    "# join the complete path for reading texts files \n",
    "txt_file_paths = []\n",
    "for folder in bunches_path:\n",
    "    txt_file_paths.append(os.path.join(data_folder_path,folder).replace('\\\\','/'))\n",
    "txt_file_paths    "
   ]
  },
  {
   "cell_type": "code",
   "execution_count": 36,
   "metadata": {},
   "outputs": [],
   "source": [
    "# empty data frame to save the data\n",
    "df_test = pd.DataFrame([])\n",
    "# loop over the entire text files to read the files\n",
    "for txt_file_path in txt_file_paths:\n",
    "    # list of files in every bunch folder\n",
    "    bunch_1_files = os.listdir(txt_file_path)\n",
    "    # reading text files in every bunch folder\n",
    "    for file_name in bunch_1_files:\n",
    "        # creating the path of text files\n",
    "        file_path = os.path.join(str(txt_file_path),file_name).replace('\\\\','/')\n",
    "        # opening the file\n",
    "        f = open(file=file_path)\n",
    "        # reading the file and converting it into a Data frame\n",
    "        df_test = df_test.append(pd.DataFrame([f.read()]), ignore_index = True)\n",
    "        # printing the data files\n",
    "#         print(df_test)"
   ]
  },
  {
   "cell_type": "code",
   "execution_count": 37,
   "metadata": {},
   "outputs": [],
   "source": [
    "# Assiging the column name to test data\n",
    "df_test.columns = ['Emails']"
   ]
  },
  {
   "cell_type": "code",
   "execution_count": 38,
   "metadata": {},
   "outputs": [
    {
     "data": {
      "text/html": [
       "<div>\n",
       "<style scoped>\n",
       "    .dataframe tbody tr th:only-of-type {\n",
       "        vertical-align: middle;\n",
       "    }\n",
       "\n",
       "    .dataframe tbody tr th {\n",
       "        vertical-align: top;\n",
       "    }\n",
       "\n",
       "    .dataframe thead th {\n",
       "        text-align: right;\n",
       "    }\n",
       "</style>\n",
       "<table border=\"1\" class=\"dataframe\">\n",
       "  <thead>\n",
       "    <tr style=\"text-align: right;\">\n",
       "      <th></th>\n",
       "      <th>Emails</th>\n",
       "    </tr>\n",
       "  </thead>\n",
       "  <tbody>\n",
       "    <tr>\n",
       "      <td>0</td>\n",
       "      <td>Message-ID:  17689680.1072131931037.JavaMail.e...</td>\n",
       "    </tr>\n",
       "    <tr>\n",
       "      <td>1</td>\n",
       "      <td>Message-ID:  8079197.1072131931233.JavaMail.ev...</td>\n",
       "    </tr>\n",
       "    <tr>\n",
       "      <td>2</td>\n",
       "      <td>Message-ID:  31781142.1072131933226.JavaMail.e...</td>\n",
       "    </tr>\n",
       "    <tr>\n",
       "      <td>3</td>\n",
       "      <td>Message-ID:  26205791.1072131933252.JavaMail.e...</td>\n",
       "    </tr>\n",
       "    <tr>\n",
       "      <td>4</td>\n",
       "      <td>Message-ID:  5270866.1072131933274.JavaMail.ev...</td>\n",
       "    </tr>\n",
       "    <tr>\n",
       "      <td>...</td>\n",
       "      <td>...</td>\n",
       "    </tr>\n",
       "    <tr>\n",
       "      <td>242</td>\n",
       "      <td>Message-ID:  2743223.1072121683713.JavaMail.ev...</td>\n",
       "    </tr>\n",
       "    <tr>\n",
       "      <td>243</td>\n",
       "      <td>Message-ID:  1563878.1072121683737.JavaMail.ev...</td>\n",
       "    </tr>\n",
       "    <tr>\n",
       "      <td>244</td>\n",
       "      <td>Message-ID:  10991220.1072121683760.JavaMail.e...</td>\n",
       "    </tr>\n",
       "    <tr>\n",
       "      <td>245</td>\n",
       "      <td>Message-ID:  12295394.1072121683783.JavaMail.e...</td>\n",
       "    </tr>\n",
       "    <tr>\n",
       "      <td>246</td>\n",
       "      <td>Message-ID:  20507140.1072121683806.JavaMail.e...</td>\n",
       "    </tr>\n",
       "  </tbody>\n",
       "</table>\n",
       "<p>247 rows × 1 columns</p>\n",
       "</div>"
      ],
      "text/plain": [
       "                                                Emails\n",
       "0    Message-ID:  17689680.1072131931037.JavaMail.e...\n",
       "1    Message-ID:  8079197.1072131931233.JavaMail.ev...\n",
       "2    Message-ID:  31781142.1072131933226.JavaMail.e...\n",
       "3    Message-ID:  26205791.1072131933252.JavaMail.e...\n",
       "4    Message-ID:  5270866.1072131933274.JavaMail.ev...\n",
       "..                                                 ...\n",
       "242  Message-ID:  2743223.1072121683713.JavaMail.ev...\n",
       "243  Message-ID:  1563878.1072121683737.JavaMail.ev...\n",
       "244  Message-ID:  10991220.1072121683760.JavaMail.e...\n",
       "245  Message-ID:  12295394.1072121683783.JavaMail.e...\n",
       "246  Message-ID:  20507140.1072121683806.JavaMail.e...\n",
       "\n",
       "[247 rows x 1 columns]"
      ]
     },
     "execution_count": 38,
     "metadata": {},
     "output_type": "execute_result"
    }
   ],
   "source": [
    "# test data\n",
    "df_test"
   ]
  },
  {
   "cell_type": "markdown",
   "metadata": {},
   "source": [
    "### 5.2 Cleaning Text Files "
   ]
  },
  {
   "cell_type": "code",
   "execution_count": 39,
   "metadata": {},
   "outputs": [],
   "source": [
    "# cleaning the test data\n",
    "df_test.Emails = df_test.Emails.apply(Text_Cleaner)"
   ]
  },
  {
   "cell_type": "code",
   "execution_count": 40,
   "metadata": {},
   "outputs": [],
   "source": [
    "# to apply Tf-IDF, we have to convert the dataframe into document\n",
    "# so lets do :)\n",
    "document = list(df_test.Emails)"
   ]
  },
  {
   "cell_type": "markdown",
   "metadata": {},
   "source": [
    "### 5.3 Creating TF_IDF Matrix of test data"
   ]
  },
  {
   "cell_type": "code",
   "execution_count": 41,
   "metadata": {},
   "outputs": [],
   "source": [
    "# creating the TF-IDF Matrix\n",
    "vectorizer = TfidfVectorizer(stop_words='english', max_features=2597)\n",
    "X = vectorizer.fit_transform(document)"
   ]
  },
  {
   "cell_type": "code",
   "execution_count": 42,
   "metadata": {},
   "outputs": [
    {
     "data": {
      "text/plain": [
       "(247, 1554)"
      ]
     },
     "execution_count": 42,
     "metadata": {},
     "output_type": "execute_result"
    }
   ],
   "source": [
    "# checking the shape of input features\n",
    "X.toarray().shape"
   ]
  },
  {
   "cell_type": "markdown",
   "metadata": {},
   "source": [
    "### 5.4 Applying Trained Model on test data "
   ]
  },
  {
   "cell_type": "code",
   "execution_count": 43,
   "metadata": {},
   "outputs": [],
   "source": [
    "# lets Applying Model on the test data\n",
    "y_pred = classifier.predict(X.toarray())"
   ]
  },
  {
   "cell_type": "code",
   "execution_count": 44,
   "metadata": {},
   "outputs": [
    {
     "data": {
      "text/plain": [
       "array([1, 1, 1, 1, 1, 1, 1, 1, 1, 1, 1, 1, 1, 1, 1, 1, 1, 1, 1, 1, 1, 1,\n",
       "       1, 1, 1, 1, 1, 1, 1, 1, 1, 1, 1, 1, 1, 1, 1, 1, 1, 1, 1, 1, 1, 1,\n",
       "       1, 1, 1, 1, 1, 1, 1, 1, 1, 1, 1, 1, 1, 1, 1, 1, 1, 1, 1, 1, 1, 1,\n",
       "       1, 1, 1, 1, 1, 1, 1, 1, 1, 1, 1, 1, 1, 1, 1, 1, 1, 1, 1, 1, 1, 1,\n",
       "       1, 1, 1, 1, 1, 1, 1, 1, 1, 1, 1, 1, 1, 1, 1, 1, 1, 1, 1, 1, 1, 1,\n",
       "       1, 1, 1, 1, 1, 1, 1, 1, 1, 1, 1, 1, 1, 1, 1, 1, 1, 1, 1, 1, 1, 1,\n",
       "       1, 1, 1, 1, 1, 1, 1, 1, 1, 1, 1, 1, 1, 1, 1, 1, 1, 1, 1, 1, 1, 1,\n",
       "       1, 1, 1, 1, 1, 1, 1, 1, 1, 1, 1, 0, 1, 1, 1, 1, 1, 1, 1, 1, 1, 1,\n",
       "       1, 1, 1, 1, 1, 1, 1, 1, 1, 1, 1, 1, 1, 1, 1, 1, 1, 1, 1, 1, 1, 1,\n",
       "       0, 1, 1, 1, 1, 1, 1, 1, 1, 1, 1, 1, 1, 1, 1, 1, 1, 1, 1, 1, 1, 1,\n",
       "       1, 1, 1, 1, 1, 1, 1, 1, 1, 1, 1, 1, 1, 0, 1, 1, 1, 1, 1, 1, 1, 1,\n",
       "       1, 1, 1, 1, 1])"
      ]
     },
     "execution_count": 44,
     "metadata": {},
     "output_type": "execute_result"
    }
   ],
   "source": [
    "# output: 0 is for not spam and 1 is for spam\n",
    "y_pred"
   ]
  },
  {
   "cell_type": "markdown",
   "metadata": {},
   "source": [
    "### 5.5 Saving the output of test data into CSV file"
   ]
  },
  {
   "cell_type": "code",
   "execution_count": 45,
   "metadata": {},
   "outputs": [],
   "source": [
    "# saving the file into test_output.csv file\n",
    "pd.DataFrame(y_pred).to_csv('test_output.csv')"
   ]
  },
  {
   "cell_type": "markdown",
   "metadata": {},
   "source": [
    "#### NOTE: if you have any query or question regarding this task, please feel free to ask at the below mentioned email:\n",
    "khizersultan007@gmail.com"
   ]
  },
  {
   "cell_type": "code",
   "execution_count": null,
   "metadata": {},
   "outputs": [],
   "source": []
  }
 ],
 "metadata": {
  "kernelspec": {
   "display_name": "Python 3",
   "language": "python",
   "name": "python3"
  },
  "language_info": {
   "codemirror_mode": {
    "name": "ipython",
    "version": 3
   },
   "file_extension": ".py",
   "mimetype": "text/x-python",
   "name": "python",
   "nbconvert_exporter": "python",
   "pygments_lexer": "ipython3",
   "version": "3.7.4"
  }
 },
 "nbformat": 4,
 "nbformat_minor": 2
}
